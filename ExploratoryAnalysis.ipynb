{
 "cells": [
  {
   "cell_type": "code",
   "execution_count": 2,
   "metadata": {},
   "outputs": [],
   "source": [
    "#Capstone 1 Exploratory Analysis"
   ]
  },
  {
   "cell_type": "code",
   "execution_count": 3,
   "metadata": {},
   "outputs": [],
   "source": [
    "import pandas as pd\n",
    "import numpy as np\n",
    "import seaborn as sns\n",
    "import matplotlib.pyplot as plt\n",
    "pd.set_option('precision',3)\n",
    "#shows only 3 decimals\n",
    "%matplotlib inline"
   ]
  },
  {
   "cell_type": "code",
   "execution_count": 4,
   "metadata": {},
   "outputs": [],
   "source": [
    "%run Capstone1-Divorce,Lat,suicide.ipynb"
   ]
  },
  {
   "cell_type": "code",
   "execution_count": 5,
   "metadata": {},
   "outputs": [
    {
     "data": {
      "text/html": [
       "<div>\n",
       "<style scoped>\n",
       "    .dataframe tbody tr th:only-of-type {\n",
       "        vertical-align: middle;\n",
       "    }\n",
       "\n",
       "    .dataframe tbody tr th {\n",
       "        vertical-align: top;\n",
       "    }\n",
       "\n",
       "    .dataframe thead th {\n",
       "        text-align: right;\n",
       "    }\n",
       "</style>\n",
       "<table border=\"1\" class=\"dataframe\">\n",
       "  <thead>\n",
       "    <tr style=\"text-align: right;\">\n",
       "      <th></th>\n",
       "      <th>country</th>\n",
       "      <th>year</th>\n",
       "      <th>sex</th>\n",
       "      <th>age</th>\n",
       "      <th>suicides_no</th>\n",
       "      <th>population</th>\n",
       "      <th>suicides/100k pop</th>\n",
       "      <th>gdp_for_year ($)</th>\n",
       "      <th>gdp_per_capita ($)</th>\n",
       "      <th>generation</th>\n",
       "    </tr>\n",
       "  </thead>\n",
       "  <tbody>\n",
       "    <tr>\n",
       "      <td>0</td>\n",
       "      <td>Albania</td>\n",
       "      <td>1987</td>\n",
       "      <td>male</td>\n",
       "      <td>15-24 years</td>\n",
       "      <td>21</td>\n",
       "      <td>312900</td>\n",
       "      <td>6.71</td>\n",
       "      <td>2,156,624,900</td>\n",
       "      <td>796</td>\n",
       "      <td>Generation X</td>\n",
       "    </tr>\n",
       "    <tr>\n",
       "      <td>1</td>\n",
       "      <td>Albania</td>\n",
       "      <td>1987</td>\n",
       "      <td>male</td>\n",
       "      <td>35-54 years</td>\n",
       "      <td>16</td>\n",
       "      <td>308000</td>\n",
       "      <td>5.19</td>\n",
       "      <td>2,156,624,900</td>\n",
       "      <td>796</td>\n",
       "      <td>Silent</td>\n",
       "    </tr>\n",
       "    <tr>\n",
       "      <td>2</td>\n",
       "      <td>Albania</td>\n",
       "      <td>1987</td>\n",
       "      <td>female</td>\n",
       "      <td>15-24 years</td>\n",
       "      <td>14</td>\n",
       "      <td>289700</td>\n",
       "      <td>4.83</td>\n",
       "      <td>2,156,624,900</td>\n",
       "      <td>796</td>\n",
       "      <td>Generation X</td>\n",
       "    </tr>\n",
       "    <tr>\n",
       "      <td>3</td>\n",
       "      <td>Albania</td>\n",
       "      <td>1987</td>\n",
       "      <td>male</td>\n",
       "      <td>75+ years</td>\n",
       "      <td>1</td>\n",
       "      <td>21800</td>\n",
       "      <td>4.59</td>\n",
       "      <td>2,156,624,900</td>\n",
       "      <td>796</td>\n",
       "      <td>G.I. Generation</td>\n",
       "    </tr>\n",
       "    <tr>\n",
       "      <td>4</td>\n",
       "      <td>Albania</td>\n",
       "      <td>1987</td>\n",
       "      <td>male</td>\n",
       "      <td>25-34 years</td>\n",
       "      <td>9</td>\n",
       "      <td>274300</td>\n",
       "      <td>3.28</td>\n",
       "      <td>2,156,624,900</td>\n",
       "      <td>796</td>\n",
       "      <td>Boomers</td>\n",
       "    </tr>\n",
       "  </tbody>\n",
       "</table>\n",
       "</div>"
      ],
      "text/plain": [
       "   country  year     sex          age  suicides_no  population  \\\n",
       "0  Albania  1987    male  15-24 years           21      312900   \n",
       "1  Albania  1987    male  35-54 years           16      308000   \n",
       "2  Albania  1987  female  15-24 years           14      289700   \n",
       "3  Albania  1987    male    75+ years            1       21800   \n",
       "4  Albania  1987    male  25-34 years            9      274300   \n",
       "\n",
       "   suicides/100k pop  gdp_for_year ($)   gdp_per_capita ($)       generation  \n",
       "0               6.71      2,156,624,900                 796     Generation X  \n",
       "1               5.19      2,156,624,900                 796           Silent  \n",
       "2               4.83      2,156,624,900                 796     Generation X  \n",
       "3               4.59      2,156,624,900                 796  G.I. Generation  \n",
       "4               3.28      2,156,624,900                 796          Boomers  "
      ]
     },
     "execution_count": 5,
     "metadata": {},
     "output_type": "execute_result"
    }
   ],
   "source": [
    "eurocide= suicideDf[suicideDf['country'].isin(europels)]\n",
    "eurocide.head()"
   ]
  },
  {
   "cell_type": "code",
   "execution_count": 6,
   "metadata": {},
   "outputs": [
    {
     "data": {
      "text/html": [
       "<div>\n",
       "<style scoped>\n",
       "    .dataframe tbody tr th:only-of-type {\n",
       "        vertical-align: middle;\n",
       "    }\n",
       "\n",
       "    .dataframe tbody tr th {\n",
       "        vertical-align: top;\n",
       "    }\n",
       "\n",
       "    .dataframe thead th {\n",
       "        text-align: right;\n",
       "    }\n",
       "</style>\n",
       "<table border=\"1\" class=\"dataframe\">\n",
       "  <thead>\n",
       "    <tr style=\"text-align: right;\">\n",
       "      <th></th>\n",
       "      <th>country</th>\n",
       "      <th>age</th>\n",
       "      <th>year</th>\n",
       "      <th>suicides/100k pop</th>\n",
       "    </tr>\n",
       "  </thead>\n",
       "  <tbody>\n",
       "    <tr>\n",
       "      <td>11376</td>\n",
       "      <td>Hungary</td>\n",
       "      <td>75+ years</td>\n",
       "      <td>1992</td>\n",
       "      <td>177.61</td>\n",
       "    </tr>\n",
       "    <tr>\n",
       "      <td>11388</td>\n",
       "      <td>Hungary</td>\n",
       "      <td>75+ years</td>\n",
       "      <td>1993</td>\n",
       "      <td>177.57</td>\n",
       "    </tr>\n",
       "    <tr>\n",
       "      <td>11364</td>\n",
       "      <td>Hungary</td>\n",
       "      <td>75+ years</td>\n",
       "      <td>1991</td>\n",
       "      <td>176.91</td>\n",
       "    </tr>\n",
       "    <tr>\n",
       "      <td>11400</td>\n",
       "      <td>Hungary</td>\n",
       "      <td>75+ years</td>\n",
       "      <td>1994</td>\n",
       "      <td>176.26</td>\n",
       "    </tr>\n",
       "    <tr>\n",
       "      <td>11412</td>\n",
       "      <td>Hungary</td>\n",
       "      <td>75+ years</td>\n",
       "      <td>1995</td>\n",
       "      <td>165.96</td>\n",
       "    </tr>\n",
       "    <tr>\n",
       "      <td>11460</td>\n",
       "      <td>Hungary</td>\n",
       "      <td>75+ years</td>\n",
       "      <td>1999</td>\n",
       "      <td>162.67</td>\n",
       "    </tr>\n",
       "    <tr>\n",
       "      <td>11436</td>\n",
       "      <td>Hungary</td>\n",
       "      <td>75+ years</td>\n",
       "      <td>1997</td>\n",
       "      <td>161.92</td>\n",
       "    </tr>\n",
       "    <tr>\n",
       "      <td>15056</td>\n",
       "      <td>Lithuania</td>\n",
       "      <td>35-54 years</td>\n",
       "      <td>1996</td>\n",
       "      <td>151.33</td>\n",
       "    </tr>\n",
       "    <tr>\n",
       "      <td>15044</td>\n",
       "      <td>Lithuania</td>\n",
       "      <td>35-54 years</td>\n",
       "      <td>1995</td>\n",
       "      <td>144.85</td>\n",
       "    </tr>\n",
       "    <tr>\n",
       "      <td>23108</td>\n",
       "      <td>Slovenia</td>\n",
       "      <td>75+ years</td>\n",
       "      <td>2001</td>\n",
       "      <td>144.71</td>\n",
       "    </tr>\n",
       "  </tbody>\n",
       "</table>\n",
       "</div>"
      ],
      "text/plain": [
       "         country          age  year  suicides/100k pop\n",
       "11376    Hungary    75+ years  1992             177.61\n",
       "11388    Hungary    75+ years  1993             177.57\n",
       "11364    Hungary    75+ years  1991             176.91\n",
       "11400    Hungary    75+ years  1994             176.26\n",
       "11412    Hungary    75+ years  1995             165.96\n",
       "11460    Hungary    75+ years  1999             162.67\n",
       "11436    Hungary    75+ years  1997             161.92\n",
       "15056  Lithuania  35-54 years  1996             151.33\n",
       "15044  Lithuania  35-54 years  1995             144.85\n",
       "23108   Slovenia    75+ years  2001             144.71"
      ]
     },
     "execution_count": 6,
     "metadata": {},
     "output_type": "execute_result"
    }
   ],
   "source": [
    "eurocide[['country','age','year','suicides/100k pop']].nlargest(10,columns='suicides/100k pop')\n",
    "#top 10 results. Hungary has 7 "
   ]
  },
  {
   "cell_type": "code",
   "execution_count": 7,
   "metadata": {},
   "outputs": [
    {
     "name": "stdout",
     "output_type": "stream",
     "text": [
      "<class 'pandas.core.frame.DataFrame'>\n",
      "Int64Index: 11908 entries, 0 to 26847\n",
      "Data columns (total 10 columns):\n",
      "country               11908 non-null object\n",
      "year                  11908 non-null int64\n",
      "sex                   11908 non-null object\n",
      "age                   11908 non-null object\n",
      "suicides_no           11908 non-null int64\n",
      "population            11908 non-null int64\n",
      "suicides/100k pop     11908 non-null float64\n",
      " gdp_for_year ($)     11908 non-null object\n",
      "gdp_per_capita ($)    11908 non-null int64\n",
      "generation            11908 non-null object\n",
      "dtypes: float64(1), int64(4), object(5)\n",
      "memory usage: 1023.3+ KB\n"
     ]
    }
   ],
   "source": [
    "eurocide.info()"
   ]
  },
  {
   "cell_type": "code",
   "execution_count": 8,
   "metadata": {},
   "outputs": [
    {
     "data": {
      "text/plain": [
       "age\n",
       "5-14 years       9183\n",
       "15-24 years    175844\n",
       "25-34 years    302309\n",
       "35-54 years    815428\n",
       "55-74 years    624545\n",
       "75+ years      287994\n",
       "Name: suicides_no, dtype: int64"
      ]
     },
     "execution_count": 8,
     "metadata": {},
     "output_type": "execute_result"
    }
   ],
   "source": [
    "totaldeath_byage= eurocide.groupby('age')['suicides_no'].sum().reindex(['5-14 years','15-24 years','25-34 years','35-54 years','55-74 years','75+ years'])\n",
    "totaldeath_byage"
   ]
  },
  {
   "cell_type": "code",
   "execution_count": 9,
   "metadata": {},
   "outputs": [
    {
     "data": {
      "text/plain": [
       "Text(0.5, 1.0, 'European total suicides by age group')"
      ]
     },
     "execution_count": 9,
     "metadata": {},
     "output_type": "execute_result"
    },
    {
     "data": {
      "image/png": "[encoded data removed]",
      "text/plain": [
       "<Figure size 432x288 with 1 Axes>"
      ]
     },
     "metadata": {
      "needs_background": "light"
     },
     "output_type": "display_data"
    }
   ],
   "source": [
    "totaldeath_byage.plot(kind='bar')\n",
    "plt.ylabel('total suicides')\n",
    "plt.title('European total suicides by age group')\n",
    "#age 35-54 has the highest count over the years in Europe"
   ]
  },
  {
   "cell_type": "code",
   "execution_count": 10,
   "metadata": {},
   "outputs": [
    {
     "data": {
      "text/plain": [
       "age\n",
       "5-14 years      0.511\n",
       "15-24 years     9.028\n",
       "25-34 years    13.479\n",
       "35-54 years    19.234\n",
       "55-74 years    21.495\n",
       "75+ years      32.238\n",
       "Name: suicides/100k pop, dtype: float64"
      ]
     },
     "execution_count": 10,
     "metadata": {},
     "output_type": "execute_result"
    }
   ],
   "source": [
    "yearavg_byage= eurocide.groupby('age')['suicides/100k pop'].mean().reindex(['5-14 years','15-24 years','25-34 years','35-54 years','55-74 years','75+ years'])\n",
    "yearavg_byage"
   ]
  },
  {
   "cell_type": "code",
   "execution_count": 11,
   "metadata": {},
   "outputs": [
    {
     "data": {
      "text/plain": [
       "Text(0.5, 1.0, 'European average suicides per 100k pop by age group')"
      ]
     },
     "execution_count": 11,
     "metadata": {},
     "output_type": "execute_result"
    },
    {
     "data": {
      "image/png": "[encoded data removed]",
      "text/plain": [
       "<Figure size 432x288 with 1 Axes>"
      ]
     },
     "metadata": {
      "needs_background": "light"
     },
     "output_type": "display_data"
    }
   ],
   "source": [
    "yearavg_byage.plot(kind='bar')\n",
    "plt.ylabel('avg. suicides per 100k pop')\n",
    "plt.title('European average suicides per 100k pop by age group')\n",
    "#75+ has highest yearly avg of suicides"
   ]
  },
  {
   "cell_type": "code",
   "execution_count": 12,
   "metadata": {},
   "outputs": [
    {
     "data": {
      "text/plain": [
       "Text(0.5, 1.0, 'European average suicides per 100k pop by year')"
      ]
     },
     "execution_count": 12,
     "metadata": {},
     "output_type": "execute_result"
    },
    {
     "data": {
      "image/png": "[encoded data removed]",
      "text/plain": [
       "<Figure size 432x288 with 1 Axes>"
      ]
     },
     "metadata": {
      "needs_background": "light"
     },
     "output_type": "display_data"
    }
   ],
   "source": [
    "eurocide.groupby('year')['suicides/100k pop'].mean().plot()\n",
    "plt.ylabel('avg. suicides per 100k pop')\n",
    "plt.title('European average suicides per 100k pop by year')"
   ]
  },
  {
   "cell_type": "code",
   "execution_count": 13,
   "metadata": {},
   "outputs": [
    {
     "data": {
      "text/plain": [
       "year\n",
       "2014    432\n",
       "2015    360\n",
       "2016    100\n",
       "Name: suicides_no, dtype: int64"
      ]
     },
     "execution_count": 13,
     "metadata": {},
     "output_type": "execute_result"
    }
   ],
   "source": [
    "eurocide.groupby('year')['suicides_no'].count().tail(3)\n",
    "#skewed by less results at the tail and head. Only 100 2016 results. Rates are on a relative decline since 1995."
   ]
  },
  {
   "cell_type": "code",
   "execution_count": 14,
   "metadata": {},
   "outputs": [
    {
     "data": {
      "text/plain": [
       "Czech Republic    10\n",
       "Romania           10\n",
       "Iceland           10\n",
       "Netherlands       10\n",
       "Lithuania         10\n",
       "Armenia           10\n",
       "Hungary           10\n",
       "Croatia           10\n",
       "Sweden            10\n",
       "Austria           10\n",
       "Name: country, dtype: int64"
      ]
     },
     "execution_count": 14,
     "metadata": {},
     "output_type": "execute_result"
    }
   ],
   "source": [
    "eurocide[eurocide['year']==2016]['country'].value_counts()\n",
    "#includes Hungary and Lithuania which we know are high. Results likely skewed."
   ]
  },
  {
   "cell_type": "code",
   "execution_count": 15,
   "metadata": {},
   "outputs": [
    {
     "data": {
      "text/html": [
       "<div>\n",
       "<style scoped>\n",
       "    .dataframe tbody tr th:only-of-type {\n",
       "        vertical-align: middle;\n",
       "    }\n",
       "\n",
       "    .dataframe tbody tr th {\n",
       "        vertical-align: top;\n",
       "    }\n",
       "\n",
       "    .dataframe thead th {\n",
       "        text-align: right;\n",
       "    }\n",
       "</style>\n",
       "<table border=\"1\" class=\"dataframe\">\n",
       "  <thead>\n",
       "    <tr style=\"text-align: right;\">\n",
       "      <th></th>\n",
       "      <th></th>\n",
       "      <th>mean100kyear</th>\n",
       "    </tr>\n",
       "    <tr>\n",
       "      <th>year</th>\n",
       "      <th>sex</th>\n",
       "      <th></th>\n",
       "    </tr>\n",
       "  </thead>\n",
       "  <tbody>\n",
       "    <tr>\n",
       "      <td rowspan=\"2\" valign=\"top\">1985</td>\n",
       "      <td>female</td>\n",
       "      <td>7.940</td>\n",
       "    </tr>\n",
       "    <tr>\n",
       "      <td>male</td>\n",
       "      <td>23.558</td>\n",
       "    </tr>\n",
       "    <tr>\n",
       "      <td rowspan=\"2\" valign=\"top\">1986</td>\n",
       "      <td>female</td>\n",
       "      <td>8.076</td>\n",
       "    </tr>\n",
       "    <tr>\n",
       "      <td>male</td>\n",
       "      <td>22.612</td>\n",
       "    </tr>\n",
       "    <tr>\n",
       "      <td>1987</td>\n",
       "      <td>female</td>\n",
       "      <td>8.395</td>\n",
       "    </tr>\n",
       "    <tr>\n",
       "      <td>...</td>\n",
       "      <td>...</td>\n",
       "      <td>...</td>\n",
       "    </tr>\n",
       "    <tr>\n",
       "      <td>2014</td>\n",
       "      <td>male</td>\n",
       "      <td>22.049</td>\n",
       "    </tr>\n",
       "    <tr>\n",
       "      <td rowspan=\"2\" valign=\"top\">2015</td>\n",
       "      <td>female</td>\n",
       "      <td>5.519</td>\n",
       "    </tr>\n",
       "    <tr>\n",
       "      <td>male</td>\n",
       "      <td>20.859</td>\n",
       "    </tr>\n",
       "    <tr>\n",
       "      <td rowspan=\"2\" valign=\"top\">2016</td>\n",
       "      <td>female</td>\n",
       "      <td>6.425</td>\n",
       "    </tr>\n",
       "    <tr>\n",
       "      <td>male</td>\n",
       "      <td>28.031</td>\n",
       "    </tr>\n",
       "  </tbody>\n",
       "</table>\n",
       "<p>64 rows × 1 columns</p>\n",
       "</div>"
      ],
      "text/plain": [
       "             mean100kyear\n",
       "year sex                 \n",
       "1985 female         7.940\n",
       "     male          23.558\n",
       "1986 female         8.076\n",
       "     male          22.612\n",
       "1987 female         8.395\n",
       "...                   ...\n",
       "2014 male          22.049\n",
       "2015 female         5.519\n",
       "     male          20.859\n",
       "2016 female         6.425\n",
       "     male          28.031\n",
       "\n",
       "[64 rows x 1 columns]"
      ]
     },
     "execution_count": 15,
     "metadata": {},
     "output_type": "execute_result"
    }
   ],
   "source": [
    "meanby_yearsex= eurocide.groupby(['year','sex']).agg(mean100kyear=pd.NamedAgg(column='suicides/100k pop',aggfunc='mean'))\n",
    "#avg number of suicides per 100k by year and gender in europe\n",
    "meanby_yearsex"
   ]
  },
  {
   "cell_type": "code",
   "execution_count": 16,
   "metadata": {},
   "outputs": [
    {
     "data": {
      "text/plain": [
       "<seaborn.axisgrid.FacetGrid at 0x1f7aa0af668>"
      ]
     },
     "execution_count": 16,
     "metadata": {},
     "output_type": "execute_result"
    },
    {
     "data": {
      "image/png": "[encoded data removed]",
      "text/plain": [
       "<Figure size 430.5x360 with 1 Axes>"
      ]
     },
     "metadata": {
      "needs_background": "light"
     },
     "output_type": "display_data"
    }
   ],
   "source": [
    "sns.lmplot(data=meanby_yearsex.reset_index(),x='year',y='mean100kyear',hue='sex')\n",
    "#males are much more likely to commit suicide, with more variance"
   ]
  },
  {
   "cell_type": "code",
   "execution_count": 17,
   "metadata": {},
   "outputs": [
    {
     "data": {
      "text/html": [
       "<div>\n",
       "<style scoped>\n",
       "    .dataframe tbody tr th:only-of-type {\n",
       "        vertical-align: middle;\n",
       "    }\n",
       "\n",
       "    .dataframe tbody tr th {\n",
       "        vertical-align: top;\n",
       "    }\n",
       "\n",
       "    .dataframe thead th {\n",
       "        text-align: right;\n",
       "    }\n",
       "</style>\n",
       "<table border=\"1\" class=\"dataframe\">\n",
       "  <thead>\n",
       "    <tr style=\"text-align: right;\">\n",
       "      <th></th>\n",
       "      <th>suicides_no</th>\n",
       "      <th>fraction_of_total</th>\n",
       "    </tr>\n",
       "    <tr>\n",
       "      <th>sex</th>\n",
       "      <th></th>\n",
       "      <th></th>\n",
       "    </tr>\n",
       "  </thead>\n",
       "  <tbody>\n",
       "    <tr>\n",
       "      <td>female</td>\n",
       "      <td>527427</td>\n",
       "      <td>0.238</td>\n",
       "    </tr>\n",
       "    <tr>\n",
       "      <td>male</td>\n",
       "      <td>1687876</td>\n",
       "      <td>0.762</td>\n",
       "    </tr>\n",
       "  </tbody>\n",
       "</table>\n",
       "</div>"
      ],
      "text/plain": [
       "        suicides_no  fraction_of_total\n",
       "sex                                   \n",
       "female       527427              0.238\n",
       "male        1687876              0.762"
      ]
     },
     "execution_count": 17,
     "metadata": {},
     "output_type": "execute_result"
    }
   ],
   "source": [
    "malefe= eurocide.groupby('sex')[['suicides_no']].sum()\n",
    "malefe['fraction_of_total']=malefe['suicides_no'].apply(lambda x: x / eurocide['suicides_no'].sum())\n",
    "malefe"
   ]
  },
  {
   "cell_type": "code",
   "execution_count": 18,
   "metadata": {},
   "outputs": [
    {
     "data": {
      "text/plain": [
       "<matplotlib.axes._subplots.AxesSubplot at 0x1f7aa1be128>"
      ]
     },
     "execution_count": 18,
     "metadata": {},
     "output_type": "execute_result"
    },
    {
     "data": {
      "image/png": "[encoded data removed]",
      "text/plain": [
       "<Figure size 432x288 with 1 Axes>"
      ]
     },
     "metadata": {
      "needs_background": "light"
     },
     "output_type": "display_data"
    }
   ],
   "source": [
    "malefe['suicides_no'].plot(kind='bar')\n",
    "#Men were 3 times more likely to commit suicide over the period"
   ]
  },
  {
   "cell_type": "code",
   "execution_count": 19,
   "metadata": {},
   "outputs": [
    {
     "data": {
      "text/plain": [
       "country\n",
       "Lithuania    40.416\n",
       "Hungary      32.762\n",
       "Belarus      31.076\n",
       "Latvia       29.259\n",
       "Slovenia     27.828\n",
       "Estonia      27.277\n",
       "Ukraine      26.582\n",
       "Austria      23.760\n",
       "Croatia      22.835\n",
       "Finland      22.770\n",
       "Name: suicides/100k pop, dtype: float64"
      ]
     },
     "execution_count": 19,
     "metadata": {},
     "output_type": "execute_result"
    }
   ],
   "source": [
    "eurocide.groupby('country')['suicides/100k pop'].mean().sort_values(ascending=False).head(10)\n",
    "#Over all years, these are the top 10 countries by mean suicide/100k"
   ]
  },
  {
   "cell_type": "code",
   "execution_count": 20,
   "metadata": {},
   "outputs": [],
   "source": [
    "EUdivorce= EUdivorce.reset_index().rename(columns={'country_name':'country', 'mean':'mean divorce rate/1000'})"
   ]
  },
  {
   "cell_type": "code",
   "execution_count": 21,
   "metadata": {},
   "outputs": [
    {
     "data": {
      "text/html": [
       "<div>\n",
       "<style scoped>\n",
       "    .dataframe tbody tr th:only-of-type {\n",
       "        vertical-align: middle;\n",
       "    }\n",
       "\n",
       "    .dataframe tbody tr th {\n",
       "        vertical-align: top;\n",
       "    }\n",
       "\n",
       "    .dataframe thead th {\n",
       "        text-align: right;\n",
       "    }\n",
       "</style>\n",
       "<table border=\"1\" class=\"dataframe\">\n",
       "  <thead>\n",
       "    <tr style=\"text-align: right;\">\n",
       "      <th></th>\n",
       "      <th>country</th>\n",
       "      <th>2006</th>\n",
       "      <th>2007</th>\n",
       "      <th>2008</th>\n",
       "      <th>2009</th>\n",
       "      <th>2010</th>\n",
       "      <th>2011</th>\n",
       "      <th>2012</th>\n",
       "      <th>2013</th>\n",
       "      <th>2014</th>\n",
       "      <th>2015</th>\n",
       "      <th>2016</th>\n",
       "      <th>2017</th>\n",
       "      <th>mean divorce rate/1000</th>\n",
       "      <th>latitude</th>\n",
       "    </tr>\n",
       "  </thead>\n",
       "  <tbody>\n",
       "    <tr>\n",
       "      <td>0</td>\n",
       "      <td>Belgium</td>\n",
       "      <td>2.8</td>\n",
       "      <td>2.8</td>\n",
       "      <td>3.3</td>\n",
       "      <td>3.0</td>\n",
       "      <td>2.7</td>\n",
       "      <td>2.5</td>\n",
       "      <td>2.3</td>\n",
       "      <td>2.2</td>\n",
       "      <td>2.2</td>\n",
       "      <td>2.2</td>\n",
       "      <td>2.1</td>\n",
       "      <td>2.0</td>\n",
       "      <td>2.508</td>\n",
       "      <td>50.504</td>\n",
       "    </tr>\n",
       "    <tr>\n",
       "      <td>1</td>\n",
       "      <td>Bulgaria</td>\n",
       "      <td>2.0</td>\n",
       "      <td>2.2</td>\n",
       "      <td>1.9</td>\n",
       "      <td>1.6</td>\n",
       "      <td>1.5</td>\n",
       "      <td>1.4</td>\n",
       "      <td>1.6</td>\n",
       "      <td>1.5</td>\n",
       "      <td>1.5</td>\n",
       "      <td>1.5</td>\n",
       "      <td>1.5</td>\n",
       "      <td>1.5</td>\n",
       "      <td>1.642</td>\n",
       "      <td>42.734</td>\n",
       "    </tr>\n",
       "    <tr>\n",
       "      <td>2</td>\n",
       "      <td>Czech Republic</td>\n",
       "      <td>3.1</td>\n",
       "      <td>3.0</td>\n",
       "      <td>3.0</td>\n",
       "      <td>2.8</td>\n",
       "      <td>2.9</td>\n",
       "      <td>2.7</td>\n",
       "      <td>2.5</td>\n",
       "      <td>2.7</td>\n",
       "      <td>2.5</td>\n",
       "      <td>2.5</td>\n",
       "      <td>2.4</td>\n",
       "      <td>2.4</td>\n",
       "      <td>2.708</td>\n",
       "      <td>49.817</td>\n",
       "    </tr>\n",
       "    <tr>\n",
       "      <td>3</td>\n",
       "      <td>Denmark</td>\n",
       "      <td>2.6</td>\n",
       "      <td>2.6</td>\n",
       "      <td>2.7</td>\n",
       "      <td>2.7</td>\n",
       "      <td>2.6</td>\n",
       "      <td>2.6</td>\n",
       "      <td>2.8</td>\n",
       "      <td>3.4</td>\n",
       "      <td>3.4</td>\n",
       "      <td>2.9</td>\n",
       "      <td>3.0</td>\n",
       "      <td>2.6</td>\n",
       "      <td>2.825</td>\n",
       "      <td>56.264</td>\n",
       "    </tr>\n",
       "    <tr>\n",
       "      <td>4</td>\n",
       "      <td>Germany</td>\n",
       "      <td>2.3</td>\n",
       "      <td>2.3</td>\n",
       "      <td>2.3</td>\n",
       "      <td>2.3</td>\n",
       "      <td>2.3</td>\n",
       "      <td>2.3</td>\n",
       "      <td>2.2</td>\n",
       "      <td>2.1</td>\n",
       "      <td>2.1</td>\n",
       "      <td>2.0</td>\n",
       "      <td>2.0</td>\n",
       "      <td>1.9</td>\n",
       "      <td>2.175</td>\n",
       "      <td>51.166</td>\n",
       "    </tr>\n",
       "  </tbody>\n",
       "</table>\n",
       "</div>"
      ],
      "text/plain": [
       "          country  2006  2007  2008  2009  2010  2011  2012  2013  2014  2015  \\\n",
       "0         Belgium   2.8   2.8   3.3   3.0   2.7   2.5   2.3   2.2   2.2   2.2   \n",
       "1        Bulgaria   2.0   2.2   1.9   1.6   1.5   1.4   1.6   1.5   1.5   1.5   \n",
       "2  Czech Republic   3.1   3.0   3.0   2.8   2.9   2.7   2.5   2.7   2.5   2.5   \n",
       "3         Denmark   2.6   2.6   2.7   2.7   2.6   2.6   2.8   3.4   3.4   2.9   \n",
       "4         Germany   2.3   2.3   2.3   2.3   2.3   2.3   2.2   2.1   2.1   2.0   \n",
       "\n",
       "   2016  2017  mean divorce rate/1000  latitude  \n",
       "0   2.1   2.0                   2.508    50.504  \n",
       "1   1.5   1.5                   1.642    42.734  \n",
       "2   2.4   2.4                   2.708    49.817  \n",
       "3   3.0   2.6                   2.825    56.264  \n",
       "4   2.0   1.9                   2.175    51.166  "
      ]
     },
     "execution_count": 21,
     "metadata": {},
     "output_type": "execute_result"
    }
   ],
   "source": [
    "EUdivorce.head()"
   ]
  },
  {
   "cell_type": "code",
   "execution_count": 22,
   "metadata": {},
   "outputs": [
    {
     "data": {
      "text/html": [
       "<div>\n",
       "<style scoped>\n",
       "    .dataframe tbody tr th:only-of-type {\n",
       "        vertical-align: middle;\n",
       "    }\n",
       "\n",
       "    .dataframe tbody tr th {\n",
       "        vertical-align: top;\n",
       "    }\n",
       "\n",
       "    .dataframe thead th {\n",
       "        text-align: right;\n",
       "    }\n",
       "</style>\n",
       "<table border=\"1\" class=\"dataframe\">\n",
       "  <thead>\n",
       "    <tr style=\"text-align: right;\">\n",
       "      <th></th>\n",
       "      <th>country</th>\n",
       "      <th>year</th>\n",
       "      <th>sex</th>\n",
       "      <th>age</th>\n",
       "      <th>suicides_no</th>\n",
       "      <th>population</th>\n",
       "      <th>suicides/100k pop</th>\n",
       "      <th>gdp_for_year ($)</th>\n",
       "      <th>gdp_per_capita ($)</th>\n",
       "      <th>generation</th>\n",
       "      <th>mean divorce rate/1000</th>\n",
       "      <th>latitude</th>\n",
       "    </tr>\n",
       "  </thead>\n",
       "  <tbody>\n",
       "    <tr>\n",
       "      <td>0</td>\n",
       "      <td>Albania</td>\n",
       "      <td>1987</td>\n",
       "      <td>male</td>\n",
       "      <td>15-24 years</td>\n",
       "      <td>21</td>\n",
       "      <td>312900</td>\n",
       "      <td>6.71</td>\n",
       "      <td>2,156,624,900</td>\n",
       "      <td>796</td>\n",
       "      <td>Generation X</td>\n",
       "      <td>NaN</td>\n",
       "      <td>NaN</td>\n",
       "    </tr>\n",
       "    <tr>\n",
       "      <td>1</td>\n",
       "      <td>Albania</td>\n",
       "      <td>1987</td>\n",
       "      <td>male</td>\n",
       "      <td>35-54 years</td>\n",
       "      <td>16</td>\n",
       "      <td>308000</td>\n",
       "      <td>5.19</td>\n",
       "      <td>2,156,624,900</td>\n",
       "      <td>796</td>\n",
       "      <td>Silent</td>\n",
       "      <td>NaN</td>\n",
       "      <td>NaN</td>\n",
       "    </tr>\n",
       "    <tr>\n",
       "      <td>2</td>\n",
       "      <td>Albania</td>\n",
       "      <td>1987</td>\n",
       "      <td>female</td>\n",
       "      <td>15-24 years</td>\n",
       "      <td>14</td>\n",
       "      <td>289700</td>\n",
       "      <td>4.83</td>\n",
       "      <td>2,156,624,900</td>\n",
       "      <td>796</td>\n",
       "      <td>Generation X</td>\n",
       "      <td>NaN</td>\n",
       "      <td>NaN</td>\n",
       "    </tr>\n",
       "    <tr>\n",
       "      <td>3</td>\n",
       "      <td>Albania</td>\n",
       "      <td>1987</td>\n",
       "      <td>male</td>\n",
       "      <td>75+ years</td>\n",
       "      <td>1</td>\n",
       "      <td>21800</td>\n",
       "      <td>4.59</td>\n",
       "      <td>2,156,624,900</td>\n",
       "      <td>796</td>\n",
       "      <td>G.I. Generation</td>\n",
       "      <td>NaN</td>\n",
       "      <td>NaN</td>\n",
       "    </tr>\n",
       "    <tr>\n",
       "      <td>4</td>\n",
       "      <td>Albania</td>\n",
       "      <td>1987</td>\n",
       "      <td>male</td>\n",
       "      <td>25-34 years</td>\n",
       "      <td>9</td>\n",
       "      <td>274300</td>\n",
       "      <td>3.28</td>\n",
       "      <td>2,156,624,900</td>\n",
       "      <td>796</td>\n",
       "      <td>Boomers</td>\n",
       "      <td>NaN</td>\n",
       "      <td>NaN</td>\n",
       "    </tr>\n",
       "  </tbody>\n",
       "</table>\n",
       "</div>"
      ],
      "text/plain": [
       "   country  year     sex          age  suicides_no  population  \\\n",
       "0  Albania  1987    male  15-24 years           21      312900   \n",
       "1  Albania  1987    male  35-54 years           16      308000   \n",
       "2  Albania  1987  female  15-24 years           14      289700   \n",
       "3  Albania  1987    male    75+ years            1       21800   \n",
       "4  Albania  1987    male  25-34 years            9      274300   \n",
       "\n",
       "   suicides/100k pop  gdp_for_year ($)   gdp_per_capita ($)       generation  \\\n",
       "0               6.71      2,156,624,900                 796     Generation X   \n",
       "1               5.19      2,156,624,900                 796           Silent   \n",
       "2               4.83      2,156,624,900                 796     Generation X   \n",
       "3               4.59      2,156,624,900                 796  G.I. Generation   \n",
       "4               3.28      2,156,624,900                 796          Boomers   \n",
       "\n",
       "   mean divorce rate/1000  latitude  \n",
       "0                     NaN       NaN  \n",
       "1                     NaN       NaN  \n",
       "2                     NaN       NaN  \n",
       "3                     NaN       NaN  \n",
       "4                     NaN       NaN  "
      ]
     },
     "execution_count": 22,
     "metadata": {},
     "output_type": "execute_result"
    }
   ],
   "source": [
    "eurocidetemp= pd.merge(eurocide, EUdivorce[['country','mean divorce rate/1000','latitude']], how='left',on='country')\n",
    "eurocidetemp.head()"
   ]
  },
  {
   "cell_type": "code",
   "execution_count": 23,
   "metadata": {},
   "outputs": [],
   "source": [
    "eurocide_notna= eurocidetemp[eurocidetemp.latitude.notna()]"
   ]
  },
  {
   "cell_type": "code",
   "execution_count": 24,
   "metadata": {},
   "outputs": [],
   "source": [
    "suicidevlat= eurocide_notna.groupby('country')[['suicides/100k pop','mean divorce rate/1000', 'latitude']].mean().reset_index()"
   ]
  },
  {
   "cell_type": "code",
   "execution_count": 25,
   "metadata": {},
   "outputs": [
    {
     "data": {
      "text/html": [
       "<div>\n",
       "<style scoped>\n",
       "    .dataframe tbody tr th:only-of-type {\n",
       "        vertical-align: middle;\n",
       "    }\n",
       "\n",
       "    .dataframe tbody tr th {\n",
       "        vertical-align: top;\n",
       "    }\n",
       "\n",
       "    .dataframe thead th {\n",
       "        text-align: right;\n",
       "    }\n",
       "</style>\n",
       "<table border=\"1\" class=\"dataframe\">\n",
       "  <thead>\n",
       "    <tr style=\"text-align: right;\">\n",
       "      <th></th>\n",
       "      <th>country</th>\n",
       "      <th>suicides/100k pop</th>\n",
       "      <th>mean divorce rate/1000</th>\n",
       "      <th>latitude</th>\n",
       "    </tr>\n",
       "  </thead>\n",
       "  <tbody>\n",
       "    <tr>\n",
       "      <td>0</td>\n",
       "      <td>Austria</td>\n",
       "      <td>23.760</td>\n",
       "      <td>2.100</td>\n",
       "      <td>47.516</td>\n",
       "    </tr>\n",
       "    <tr>\n",
       "      <td>1</td>\n",
       "      <td>Azerbaijan</td>\n",
       "      <td>1.855</td>\n",
       "      <td>1.142</td>\n",
       "      <td>40.143</td>\n",
       "    </tr>\n",
       "    <tr>\n",
       "      <td>2</td>\n",
       "      <td>Belarus</td>\n",
       "      <td>31.076</td>\n",
       "      <td>3.700</td>\n",
       "      <td>53.710</td>\n",
       "    </tr>\n",
       "    <tr>\n",
       "      <td>3</td>\n",
       "      <td>Belgium</td>\n",
       "      <td>21.238</td>\n",
       "      <td>2.508</td>\n",
       "      <td>50.504</td>\n",
       "    </tr>\n",
       "    <tr>\n",
       "      <td>4</td>\n",
       "      <td>Bulgaria</td>\n",
       "      <td>19.489</td>\n",
       "      <td>1.642</td>\n",
       "      <td>42.734</td>\n",
       "    </tr>\n",
       "  </tbody>\n",
       "</table>\n",
       "</div>"
      ],
      "text/plain": [
       "      country  suicides/100k pop  mean divorce rate/1000  latitude\n",
       "0     Austria             23.760                   2.100    47.516\n",
       "1  Azerbaijan              1.855                   1.142    40.143\n",
       "2     Belarus             31.076                   3.700    53.710\n",
       "3     Belgium             21.238                   2.508    50.504\n",
       "4    Bulgaria             19.489                   1.642    42.734"
      ]
     },
     "execution_count": 25,
     "metadata": {},
     "output_type": "execute_result"
    }
   ],
   "source": [
    "suicidevlat.head()"
   ]
  },
  {
   "cell_type": "code",
   "execution_count": 26,
   "metadata": {},
   "outputs": [
    {
     "data": {
      "text/plain": [
       "<seaborn.axisgrid.PairGrid at 0x1f7aa23af60>"
      ]
     },
     "execution_count": 26,
     "metadata": {},
     "output_type": "execute_result"
    },
    {
     "data": {
      "image/png": "[encoded data removed]",
      "text/plain": [
       "<Figure size 540x540 with 12 Axes>"
      ]
     },
     "metadata": {
      "needs_background": "light"
     },
     "output_type": "display_data"
    }
   ],
   "source": [
    "sns.pairplot(suicidevlat)\n",
    "#all of the variables seem to have a positive correlation with each other, especially divorce rate w/ suicides"
   ]
  },
  {
   "cell_type": "code",
   "execution_count": 27,
   "metadata": {},
   "outputs": [
    {
     "data": {
      "text/html": [
       "<div>\n",
       "<style scoped>\n",
       "    .dataframe tbody tr th:only-of-type {\n",
       "        vertical-align: middle;\n",
       "    }\n",
       "\n",
       "    .dataframe tbody tr th {\n",
       "        vertical-align: top;\n",
       "    }\n",
       "\n",
       "    .dataframe thead th {\n",
       "        text-align: right;\n",
       "    }\n",
       "</style>\n",
       "<table border=\"1\" class=\"dataframe\">\n",
       "  <thead>\n",
       "    <tr style=\"text-align: right;\">\n",
       "      <th></th>\n",
       "      <th>suicides/100k pop</th>\n",
       "      <th>mean divorce rate/1000</th>\n",
       "      <th>latitude</th>\n",
       "    </tr>\n",
       "  </thead>\n",
       "  <tbody>\n",
       "    <tr>\n",
       "      <td>suicides/100k pop</td>\n",
       "      <td>1.000</td>\n",
       "      <td>0.575</td>\n",
       "      <td>0.416</td>\n",
       "    </tr>\n",
       "    <tr>\n",
       "      <td>mean divorce rate/1000</td>\n",
       "      <td>0.575</td>\n",
       "      <td>1.000</td>\n",
       "      <td>0.545</td>\n",
       "    </tr>\n",
       "    <tr>\n",
       "      <td>latitude</td>\n",
       "      <td>0.416</td>\n",
       "      <td>0.545</td>\n",
       "      <td>1.000</td>\n",
       "    </tr>\n",
       "  </tbody>\n",
       "</table>\n",
       "</div>"
      ],
      "text/plain": [
       "                        suicides/100k pop  mean divorce rate/1000  latitude\n",
       "suicides/100k pop                   1.000                   0.575     0.416\n",
       "mean divorce rate/1000              0.575                   1.000     0.545\n",
       "latitude                            0.416                   0.545     1.000"
      ]
     },
     "execution_count": 27,
     "metadata": {},
     "output_type": "execute_result"
    }
   ],
   "source": [
    "suicidevlat.corr()"
   ]
  },
  {
   "cell_type": "code",
   "execution_count": 28,
   "metadata": {},
   "outputs": [
    {
     "name": "stdout",
     "output_type": "stream",
     "text": [
      "<class 'pandas.core.frame.DataFrame'>\n",
      "Index: 3965 entries, Afghanistan to Last Updated: 10/28/2019\n",
      "Data columns (total 20 columns):\n",
      "Country Code     3960 non-null object\n",
      "Series Name      3960 non-null object\n",
      "Series Code      3960 non-null object\n",
      "2000 [YR2000]    3960 non-null object\n",
      "2001 [YR2001]    3960 non-null object\n",
      "2002 [YR2002]    3960 non-null object\n",
      "2003 [YR2003]    3960 non-null object\n",
      "2004 [YR2004]    3960 non-null object\n",
      "2005 [YR2005]    3960 non-null object\n",
      "2006 [YR2006]    3960 non-null object\n",
      "2007 [YR2007]    3960 non-null object\n",
      "2008 [YR2008]    3960 non-null object\n",
      "2009 [YR2009]    3960 non-null object\n",
      "2010 [YR2010]    3960 non-null object\n",
      "2011 [YR2011]    3960 non-null object\n",
      "2012 [YR2012]    3960 non-null object\n",
      "2013 [YR2013]    3960 non-null object\n",
      "2014 [YR2014]    3960 non-null object\n",
      "2015 [YR2015]    3960 non-null object\n",
      "2016 [YR2016]    3960 non-null object\n",
      "dtypes: object(20)\n",
      "memory usage: 650.5+ KB\n"
     ]
    }
   ],
   "source": [
    "%run Capstone1-main.ipynb"
   ]
  },
  {
   "cell_type": "code",
   "execution_count": 29,
   "metadata": {
    "scrolled": true
   },
   "outputs": [
    {
     "data": {
      "text/html": [
       "<div>\n",
       "<style scoped>\n",
       "    .dataframe tbody tr th:only-of-type {\n",
       "        vertical-align: middle;\n",
       "    }\n",
       "\n",
       "    .dataframe tbody tr th {\n",
       "        vertical-align: top;\n",
       "    }\n",
       "\n",
       "    .dataframe thead th {\n",
       "        text-align: right;\n",
       "    }\n",
       "</style>\n",
       "<table border=\"1\" class=\"dataframe\">\n",
       "  <thead>\n",
       "    <tr style=\"text-align: right;\">\n",
       "      <th>Series_name</th>\n",
       "      <th>Country Name</th>\n",
       "      <th>Year</th>\n",
       "      <th>Access to electricity (% of population)</th>\n",
       "      <th>Birth rate, crude (per 1,000 people)</th>\n",
       "      <th>CO2 emissions (metric tons per capita)</th>\n",
       "      <th>Current health expenditure per capita (current US$)</th>\n",
       "      <th>Death rate, crude (per 1,000 people)</th>\n",
       "      <th>Electric power consumption (kWh per capita)</th>\n",
       "      <th>Fixed broadband subscriptions (per 100 people)</th>\n",
       "      <th>GNI per capita, PPP (current international $)</th>\n",
       "      <th>Individuals using the Internet (% of population)</th>\n",
       "      <th>Mobile cellular subscriptions (per 100 people)</th>\n",
       "      <th>Population density (people per sq. km of land area)</th>\n",
       "      <th>Population, total</th>\n",
       "      <th>Unemployment, female (% of female labor force) (national estimate)</th>\n",
       "      <th>Unemployment, male (% of male labor force) (national estimate)</th>\n",
       "      <th>Urban population (% of total population)</th>\n",
       "    </tr>\n",
       "  </thead>\n",
       "  <tbody>\n",
       "    <tr>\n",
       "      <td>0</td>\n",
       "      <td>Albania</td>\n",
       "      <td>2000</td>\n",
       "      <td>100.0</td>\n",
       "      <td>16.436</td>\n",
       "      <td>0.978</td>\n",
       "      <td>75.531</td>\n",
       "      <td>5.914</td>\n",
       "      <td>1449.647</td>\n",
       "      <td>0.0</td>\n",
       "      <td>3980.0</td>\n",
       "      <td>0.114</td>\n",
       "      <td>0.952</td>\n",
       "      <td>112.738</td>\n",
       "      <td>3.089e+06</td>\n",
       "      <td>19.3</td>\n",
       "      <td>14.9</td>\n",
       "      <td>41.741</td>\n",
       "    </tr>\n",
       "    <tr>\n",
       "      <td>1</td>\n",
       "      <td>Albania</td>\n",
       "      <td>2001</td>\n",
       "      <td>100.0</td>\n",
       "      <td>15.590</td>\n",
       "      <td>1.053</td>\n",
       "      <td>81.946</td>\n",
       "      <td>5.879</td>\n",
       "      <td>1351.231</td>\n",
       "      <td>0.0</td>\n",
       "      <td>4440.0</td>\n",
       "      <td>0.326</td>\n",
       "      <td>12.546</td>\n",
       "      <td>111.685</td>\n",
       "      <td>3.060e+06</td>\n",
       "      <td>19.9</td>\n",
       "      <td>14.2</td>\n",
       "      <td>42.435</td>\n",
       "    </tr>\n",
       "    <tr>\n",
       "      <td>2</td>\n",
       "      <td>Albania</td>\n",
       "      <td>2002</td>\n",
       "      <td>100.0</td>\n",
       "      <td>14.790</td>\n",
       "      <td>1.230</td>\n",
       "      <td>89.858</td>\n",
       "      <td>5.891</td>\n",
       "      <td>1578.166</td>\n",
       "      <td>0.0</td>\n",
       "      <td>4780.0</td>\n",
       "      <td>0.390</td>\n",
       "      <td>27.222</td>\n",
       "      <td>111.351</td>\n",
       "      <td>3.051e+06</td>\n",
       "      <td>19.1</td>\n",
       "      <td>13.6</td>\n",
       "      <td>43.501</td>\n",
       "    </tr>\n",
       "    <tr>\n",
       "      <td>3</td>\n",
       "      <td>Albania</td>\n",
       "      <td>2003</td>\n",
       "      <td>100.0</td>\n",
       "      <td>14.048</td>\n",
       "      <td>1.413</td>\n",
       "      <td>113.584</td>\n",
       "      <td>5.952</td>\n",
       "      <td>1469.265</td>\n",
       "      <td>0.0</td>\n",
       "      <td>5130.0</td>\n",
       "      <td>0.972</td>\n",
       "      <td>35.279</td>\n",
       "      <td>110.935</td>\n",
       "      <td>3.040e+06</td>\n",
       "      <td>18.2</td>\n",
       "      <td>12.9</td>\n",
       "      <td>44.573</td>\n",
       "    </tr>\n",
       "    <tr>\n",
       "      <td>4</td>\n",
       "      <td>Albania</td>\n",
       "      <td>2004</td>\n",
       "      <td>100.0</td>\n",
       "      <td>13.381</td>\n",
       "      <td>1.376</td>\n",
       "      <td>151.981</td>\n",
       "      <td>6.061</td>\n",
       "      <td>1797.525</td>\n",
       "      <td>0.0</td>\n",
       "      <td>5550.0</td>\n",
       "      <td>2.420</td>\n",
       "      <td>40.568</td>\n",
       "      <td>110.472</td>\n",
       "      <td>3.027e+06</td>\n",
       "      <td>17.5</td>\n",
       "      <td>12.4</td>\n",
       "      <td>45.651</td>\n",
       "    </tr>\n",
       "  </tbody>\n",
       "</table>\n",
       "</div>"
      ],
      "text/plain": [
       "Series_name Country Name  Year  Access to electricity (% of population)  \\\n",
       "0                Albania  2000                                    100.0   \n",
       "1                Albania  2001                                    100.0   \n",
       "2                Albania  2002                                    100.0   \n",
       "3                Albania  2003                                    100.0   \n",
       "4                Albania  2004                                    100.0   \n",
       "\n",
       "Series_name  Birth rate, crude (per 1,000 people)  \\\n",
       "0                                          16.436   \n",
       "1                                          15.590   \n",
       "2                                          14.790   \n",
       "3                                          14.048   \n",
       "4                                          13.381   \n",
       "\n",
       "Series_name  CO2 emissions (metric tons per capita)  \\\n",
       "0                                             0.978   \n",
       "1                                             1.053   \n",
       "2                                             1.230   \n",
       "3                                             1.413   \n",
       "4                                             1.376   \n",
       "\n",
       "Series_name  Current health expenditure per capita (current US$)  \\\n",
       "0                                                       75.531     \n",
       "1                                                       81.946     \n",
       "2                                                       89.858     \n",
       "3                                                      113.584     \n",
       "4                                                      151.981     \n",
       "\n",
       "Series_name  Death rate, crude (per 1,000 people)  \\\n",
       "0                                           5.914   \n",
       "1                                           5.879   \n",
       "2                                           5.891   \n",
       "3                                           5.952   \n",
       "4                                           6.061   \n",
       "\n",
       "Series_name  Electric power consumption (kWh per capita)  \\\n",
       "0                                               1449.647   \n",
       "1                                               1351.231   \n",
       "2                                               1578.166   \n",
       "3                                               1469.265   \n",
       "4                                               1797.525   \n",
       "\n",
       "Series_name  Fixed broadband subscriptions (per 100 people)  \\\n",
       "0                                                       0.0   \n",
       "1                                                       0.0   \n",
       "2                                                       0.0   \n",
       "3                                                       0.0   \n",
       "4                                                       0.0   \n",
       "\n",
       "Series_name  GNI per capita, PPP (current international $)  \\\n",
       "0                                                   3980.0   \n",
       "1                                                   4440.0   \n",
       "2                                                   4780.0   \n",
       "3                                                   5130.0   \n",
       "4                                                   5550.0   \n",
       "\n",
       "Series_name  Individuals using the Internet (% of population)  \\\n",
       "0                                                       0.114   \n",
       "1                                                       0.326   \n",
       "2                                                       0.390   \n",
       "3                                                       0.972   \n",
       "4                                                       2.420   \n",
       "\n",
       "Series_name  Mobile cellular subscriptions (per 100 people)  \\\n",
       "0                                                     0.952   \n",
       "1                                                    12.546   \n",
       "2                                                    27.222   \n",
       "3                                                    35.279   \n",
       "4                                                    40.568   \n",
       "\n",
       "Series_name  Population density (people per sq. km of land area)  \\\n",
       "0                                                      112.738     \n",
       "1                                                      111.685     \n",
       "2                                                      111.351     \n",
       "3                                                      110.935     \n",
       "4                                                      110.472     \n",
       "\n",
       "Series_name  Population, total  \\\n",
       "0                    3.089e+06   \n",
       "1                    3.060e+06   \n",
       "2                    3.051e+06   \n",
       "3                    3.040e+06   \n",
       "4                    3.027e+06   \n",
       "\n",
       "Series_name  Unemployment, female (% of female labor force) (national estimate)  \\\n",
       "0                                                         19.3                    \n",
       "1                                                         19.9                    \n",
       "2                                                         19.1                    \n",
       "3                                                         18.2                    \n",
       "4                                                         17.5                    \n",
       "\n",
       "Series_name  Unemployment, male (% of male labor force) (national estimate)  \\\n",
       "0                                                         14.9                \n",
       "1                                                         14.2                \n",
       "2                                                         13.6                \n",
       "3                                                         12.9                \n",
       "4                                                         12.4                \n",
       "\n",
       "Series_name  Urban population (% of total population)  \n",
       "0                                              41.741  \n",
       "1                                              42.435  \n",
       "2                                              43.501  \n",
       "3                                              44.573  \n",
       "4                                              45.651  "
      ]
     },
     "execution_count": 29,
     "metadata": {},
     "output_type": "execute_result"
    }
   ],
   "source": [
    "europeDf.head()"
   ]
  },
  {
   "cell_type": "code",
   "execution_count": 30,
   "metadata": {},
   "outputs": [],
   "source": [
    "europeDf= europeDf.rename(columns={'Country Name':'country','Year':'year'})\n",
    "#prepare for merge"
   ]
  },
  {
   "cell_type": "code",
   "execution_count": 31,
   "metadata": {},
   "outputs": [],
   "source": [
    "europeDf['year']=europeDf.year.astype('int64')\n",
    "#convert year from string to int"
   ]
  },
  {
   "cell_type": "code",
   "execution_count": null,
   "metadata": {},
   "outputs": [],
   "source": []
  },
  {
   "cell_type": "code",
   "execution_count": 32,
   "metadata": {},
   "outputs": [],
   "source": [
    "eurocidetemp2= pd.merge(eurocide, europeDf[['country','year','Mobile cellular subscriptions (per 100 people)','Electric power consumption (kWh per capita)','Population density (people per sq. km of land area)']],how='left',on=['country','year'])"
   ]
  },
  {
   "cell_type": "code",
   "execution_count": 33,
   "metadata": {},
   "outputs": [],
   "source": [
    "#country v year dot chart"
   ]
  },
  {
   "cell_type": "code",
   "execution_count": 34,
   "metadata": {},
   "outputs": [
    {
     "data": {
      "text/html": [
       "<div>\n",
       "<style scoped>\n",
       "    .dataframe tbody tr th:only-of-type {\n",
       "        vertical-align: middle;\n",
       "    }\n",
       "\n",
       "    .dataframe tbody tr th {\n",
       "        vertical-align: top;\n",
       "    }\n",
       "\n",
       "    .dataframe thead th {\n",
       "        text-align: right;\n",
       "    }\n",
       "</style>\n",
       "<table border=\"1\" class=\"dataframe\">\n",
       "  <thead>\n",
       "    <tr style=\"text-align: right;\">\n",
       "      <th></th>\n",
       "      <th>country</th>\n",
       "      <th>year</th>\n",
       "      <th>sex</th>\n",
       "      <th>age</th>\n",
       "      <th>suicides_no</th>\n",
       "      <th>population</th>\n",
       "      <th>suicides/100k pop</th>\n",
       "      <th>gdp_for_year ($)</th>\n",
       "      <th>gdp_per_capita ($)</th>\n",
       "      <th>generation</th>\n",
       "      <th>Mobile cellular subscriptions (per 100 people)</th>\n",
       "      <th>Electric power consumption (kWh per capita)</th>\n",
       "      <th>Population density (people per sq. km of land area)</th>\n",
       "    </tr>\n",
       "  </thead>\n",
       "  <tbody>\n",
       "    <tr>\n",
       "      <td>0</td>\n",
       "      <td>Albania</td>\n",
       "      <td>1987</td>\n",
       "      <td>male</td>\n",
       "      <td>15-24 years</td>\n",
       "      <td>21</td>\n",
       "      <td>312900</td>\n",
       "      <td>6.71</td>\n",
       "      <td>2,156,624,900</td>\n",
       "      <td>796</td>\n",
       "      <td>Generation X</td>\n",
       "      <td>NaN</td>\n",
       "      <td>NaN</td>\n",
       "      <td>NaN</td>\n",
       "    </tr>\n",
       "    <tr>\n",
       "      <td>1</td>\n",
       "      <td>Albania</td>\n",
       "      <td>1987</td>\n",
       "      <td>male</td>\n",
       "      <td>35-54 years</td>\n",
       "      <td>16</td>\n",
       "      <td>308000</td>\n",
       "      <td>5.19</td>\n",
       "      <td>2,156,624,900</td>\n",
       "      <td>796</td>\n",
       "      <td>Silent</td>\n",
       "      <td>NaN</td>\n",
       "      <td>NaN</td>\n",
       "      <td>NaN</td>\n",
       "    </tr>\n",
       "    <tr>\n",
       "      <td>2</td>\n",
       "      <td>Albania</td>\n",
       "      <td>1987</td>\n",
       "      <td>female</td>\n",
       "      <td>15-24 years</td>\n",
       "      <td>14</td>\n",
       "      <td>289700</td>\n",
       "      <td>4.83</td>\n",
       "      <td>2,156,624,900</td>\n",
       "      <td>796</td>\n",
       "      <td>Generation X</td>\n",
       "      <td>NaN</td>\n",
       "      <td>NaN</td>\n",
       "      <td>NaN</td>\n",
       "    </tr>\n",
       "    <tr>\n",
       "      <td>3</td>\n",
       "      <td>Albania</td>\n",
       "      <td>1987</td>\n",
       "      <td>male</td>\n",
       "      <td>75+ years</td>\n",
       "      <td>1</td>\n",
       "      <td>21800</td>\n",
       "      <td>4.59</td>\n",
       "      <td>2,156,624,900</td>\n",
       "      <td>796</td>\n",
       "      <td>G.I. Generation</td>\n",
       "      <td>NaN</td>\n",
       "      <td>NaN</td>\n",
       "      <td>NaN</td>\n",
       "    </tr>\n",
       "    <tr>\n",
       "      <td>4</td>\n",
       "      <td>Albania</td>\n",
       "      <td>1987</td>\n",
       "      <td>male</td>\n",
       "      <td>25-34 years</td>\n",
       "      <td>9</td>\n",
       "      <td>274300</td>\n",
       "      <td>3.28</td>\n",
       "      <td>2,156,624,900</td>\n",
       "      <td>796</td>\n",
       "      <td>Boomers</td>\n",
       "      <td>NaN</td>\n",
       "      <td>NaN</td>\n",
       "      <td>NaN</td>\n",
       "    </tr>\n",
       "  </tbody>\n",
       "</table>\n",
       "</div>"
      ],
      "text/plain": [
       "   country  year     sex          age  suicides_no  population  \\\n",
       "0  Albania  1987    male  15-24 years           21      312900   \n",
       "1  Albania  1987    male  35-54 years           16      308000   \n",
       "2  Albania  1987  female  15-24 years           14      289700   \n",
       "3  Albania  1987    male    75+ years            1       21800   \n",
       "4  Albania  1987    male  25-34 years            9      274300   \n",
       "\n",
       "   suicides/100k pop  gdp_for_year ($)   gdp_per_capita ($)       generation  \\\n",
       "0               6.71      2,156,624,900                 796     Generation X   \n",
       "1               5.19      2,156,624,900                 796           Silent   \n",
       "2               4.83      2,156,624,900                 796     Generation X   \n",
       "3               4.59      2,156,624,900                 796  G.I. Generation   \n",
       "4               3.28      2,156,624,900                 796          Boomers   \n",
       "\n",
       "   Mobile cellular subscriptions (per 100 people)  \\\n",
       "0                                             NaN   \n",
       "1                                             NaN   \n",
       "2                                             NaN   \n",
       "3                                             NaN   \n",
       "4                                             NaN   \n",
       "\n",
       "   Electric power consumption (kWh per capita)  \\\n",
       "0                                          NaN   \n",
       "1                                          NaN   \n",
       "2                                          NaN   \n",
       "3                                          NaN   \n",
       "4                                          NaN   \n",
       "\n",
       "   Population density (people per sq. km of land area)  \n",
       "0                                                NaN    \n",
       "1                                                NaN    \n",
       "2                                                NaN    \n",
       "3                                                NaN    \n",
       "4                                                NaN    "
      ]
     },
     "execution_count": 34,
     "metadata": {},
     "output_type": "execute_result"
    }
   ],
   "source": [
    "eurocidetemp2.head()"
   ]
  },
  {
   "cell_type": "code",
   "execution_count": 35,
   "metadata": {},
   "outputs": [],
   "source": [
    "eurocide_others= eurocidetemp2[eurocidetemp2['Mobile cellular subscriptions (per 100 people)'].notna()]"
   ]
  },
  {
   "cell_type": "code",
   "execution_count": 36,
   "metadata": {},
   "outputs": [
    {
     "data": {
      "text/html": [
       "<div>\n",
       "<style scoped>\n",
       "    .dataframe tbody tr th:only-of-type {\n",
       "        vertical-align: middle;\n",
       "    }\n",
       "\n",
       "    .dataframe tbody tr th {\n",
       "        vertical-align: top;\n",
       "    }\n",
       "\n",
       "    .dataframe thead th {\n",
       "        text-align: right;\n",
       "    }\n",
       "</style>\n",
       "<table border=\"1\" class=\"dataframe\">\n",
       "  <thead>\n",
       "    <tr style=\"text-align: right;\">\n",
       "      <th></th>\n",
       "      <th>country</th>\n",
       "      <th>year</th>\n",
       "      <th>sex</th>\n",
       "      <th>age</th>\n",
       "      <th>suicides_no</th>\n",
       "      <th>population</th>\n",
       "      <th>suicides/100k pop</th>\n",
       "      <th>gdp_for_year ($)</th>\n",
       "      <th>gdp_per_capita ($)</th>\n",
       "      <th>generation</th>\n",
       "      <th>Mobile cellular subscriptions (per 100 people)</th>\n",
       "      <th>Electric power consumption (kWh per capita)</th>\n",
       "      <th>Population density (people per sq. km of land area)</th>\n",
       "    </tr>\n",
       "  </thead>\n",
       "  <tbody>\n",
       "    <tr>\n",
       "      <td>132</td>\n",
       "      <td>Albania</td>\n",
       "      <td>2000</td>\n",
       "      <td>male</td>\n",
       "      <td>25-34 years</td>\n",
       "      <td>17</td>\n",
       "      <td>232000</td>\n",
       "      <td>7.33</td>\n",
       "      <td>3,632,043,908</td>\n",
       "      <td>1299</td>\n",
       "      <td>Generation X</td>\n",
       "      <td>0.952</td>\n",
       "      <td>1449.647</td>\n",
       "      <td>112.738</td>\n",
       "    </tr>\n",
       "    <tr>\n",
       "      <td>133</td>\n",
       "      <td>Albania</td>\n",
       "      <td>2000</td>\n",
       "      <td>male</td>\n",
       "      <td>55-74 years</td>\n",
       "      <td>10</td>\n",
       "      <td>177400</td>\n",
       "      <td>5.64</td>\n",
       "      <td>3,632,043,908</td>\n",
       "      <td>1299</td>\n",
       "      <td>Silent</td>\n",
       "      <td>0.952</td>\n",
       "      <td>1449.647</td>\n",
       "      <td>112.738</td>\n",
       "    </tr>\n",
       "    <tr>\n",
       "      <td>134</td>\n",
       "      <td>Albania</td>\n",
       "      <td>2000</td>\n",
       "      <td>female</td>\n",
       "      <td>75+ years</td>\n",
       "      <td>2</td>\n",
       "      <td>37800</td>\n",
       "      <td>5.29</td>\n",
       "      <td>3,632,043,908</td>\n",
       "      <td>1299</td>\n",
       "      <td>G.I. Generation</td>\n",
       "      <td>0.952</td>\n",
       "      <td>1449.647</td>\n",
       "      <td>112.738</td>\n",
       "    </tr>\n",
       "    <tr>\n",
       "      <td>135</td>\n",
       "      <td>Albania</td>\n",
       "      <td>2000</td>\n",
       "      <td>male</td>\n",
       "      <td>75+ years</td>\n",
       "      <td>1</td>\n",
       "      <td>24900</td>\n",
       "      <td>4.02</td>\n",
       "      <td>3,632,043,908</td>\n",
       "      <td>1299</td>\n",
       "      <td>G.I. Generation</td>\n",
       "      <td>0.952</td>\n",
       "      <td>1449.647</td>\n",
       "      <td>112.738</td>\n",
       "    </tr>\n",
       "    <tr>\n",
       "      <td>136</td>\n",
       "      <td>Albania</td>\n",
       "      <td>2000</td>\n",
       "      <td>female</td>\n",
       "      <td>15-24 years</td>\n",
       "      <td>6</td>\n",
       "      <td>263900</td>\n",
       "      <td>2.27</td>\n",
       "      <td>3,632,043,908</td>\n",
       "      <td>1299</td>\n",
       "      <td>Generation X</td>\n",
       "      <td>0.952</td>\n",
       "      <td>1449.647</td>\n",
       "      <td>112.738</td>\n",
       "    </tr>\n",
       "  </tbody>\n",
       "</table>\n",
       "</div>"
      ],
      "text/plain": [
       "     country  year     sex          age  suicides_no  population  \\\n",
       "132  Albania  2000    male  25-34 years           17      232000   \n",
       "133  Albania  2000    male  55-74 years           10      177400   \n",
       "134  Albania  2000  female    75+ years            2       37800   \n",
       "135  Albania  2000    male    75+ years            1       24900   \n",
       "136  Albania  2000  female  15-24 years            6      263900   \n",
       "\n",
       "     suicides/100k pop  gdp_for_year ($)   gdp_per_capita ($)  \\\n",
       "132               7.33      3,632,043,908                1299   \n",
       "133               5.64      3,632,043,908                1299   \n",
       "134               5.29      3,632,043,908                1299   \n",
       "135               4.02      3,632,043,908                1299   \n",
       "136               2.27      3,632,043,908                1299   \n",
       "\n",
       "          generation  Mobile cellular subscriptions (per 100 people)  \\\n",
       "132     Generation X                                           0.952   \n",
       "133           Silent                                           0.952   \n",
       "134  G.I. Generation                                           0.952   \n",
       "135  G.I. Generation                                           0.952   \n",
       "136     Generation X                                           0.952   \n",
       "\n",
       "     Electric power consumption (kWh per capita)  \\\n",
       "132                                     1449.647   \n",
       "133                                     1449.647   \n",
       "134                                     1449.647   \n",
       "135                                     1449.647   \n",
       "136                                     1449.647   \n",
       "\n",
       "     Population density (people per sq. km of land area)  \n",
       "132                                            112.738    \n",
       "133                                            112.738    \n",
       "134                                            112.738    \n",
       "135                                            112.738    \n",
       "136                                            112.738    "
      ]
     },
     "execution_count": 36,
     "metadata": {},
     "output_type": "execute_result"
    }
   ],
   "source": [
    "eurocide_others.head()"
   ]
  },
  {
   "cell_type": "code",
   "execution_count": 37,
   "metadata": {},
   "outputs": [],
   "source": [
    "eurocide_others = eurocide_others.groupby('year',as_index=False)[['suicides/100k pop','Mobile cellular subscriptions (per 100 people)','Electric power consumption (kWh per capita)']].mean()\n",
    "#condensing other variables"
   ]
  },
  {
   "cell_type": "code",
   "execution_count": 38,
   "metadata": {},
   "outputs": [
    {
     "data": {
      "text/html": [
       "<div>\n",
       "<style scoped>\n",
       "    .dataframe tbody tr th:only-of-type {\n",
       "        vertical-align: middle;\n",
       "    }\n",
       "\n",
       "    .dataframe tbody tr th {\n",
       "        vertical-align: top;\n",
       "    }\n",
       "\n",
       "    .dataframe thead th {\n",
       "        text-align: right;\n",
       "    }\n",
       "</style>\n",
       "<table border=\"1\" class=\"dataframe\">\n",
       "  <thead>\n",
       "    <tr style=\"text-align: right;\">\n",
       "      <th></th>\n",
       "      <th>year</th>\n",
       "      <th>suicides/100k pop</th>\n",
       "      <th>Mobile cellular subscriptions (per 100 people)</th>\n",
       "      <th>Electric power consumption (kWh per capita)</th>\n",
       "    </tr>\n",
       "  </thead>\n",
       "  <tbody>\n",
       "    <tr>\n",
       "      <td>12</td>\n",
       "      <td>2012</td>\n",
       "      <td>13.732</td>\n",
       "      <td>125.214</td>\n",
       "      <td>8006.109</td>\n",
       "    </tr>\n",
       "    <tr>\n",
       "      <td>13</td>\n",
       "      <td>2013</td>\n",
       "      <td>13.631</td>\n",
       "      <td>123.479</td>\n",
       "      <td>7973.938</td>\n",
       "    </tr>\n",
       "    <tr>\n",
       "      <td>14</td>\n",
       "      <td>2014</td>\n",
       "      <td>13.746</td>\n",
       "      <td>123.544</td>\n",
       "      <td>7722.428</td>\n",
       "    </tr>\n",
       "    <tr>\n",
       "      <td>15</td>\n",
       "      <td>2015</td>\n",
       "      <td>13.514</td>\n",
       "      <td>124.387</td>\n",
       "      <td>0.000</td>\n",
       "    </tr>\n",
       "    <tr>\n",
       "      <td>16</td>\n",
       "      <td>2016</td>\n",
       "      <td>18.692</td>\n",
       "      <td>120.421</td>\n",
       "      <td>0.000</td>\n",
       "    </tr>\n",
       "  </tbody>\n",
       "</table>\n",
       "</div>"
      ],
      "text/plain": [
       "    year  suicides/100k pop  Mobile cellular subscriptions (per 100 people)  \\\n",
       "12  2012             13.732                                         125.214   \n",
       "13  2013             13.631                                         123.479   \n",
       "14  2014             13.746                                         123.544   \n",
       "15  2015             13.514                                         124.387   \n",
       "16  2016             18.692                                         120.421   \n",
       "\n",
       "    Electric power consumption (kWh per capita)  \n",
       "12                                     8006.109  \n",
       "13                                     7973.938  \n",
       "14                                     7722.428  \n",
       "15                                        0.000  \n",
       "16                                        0.000  "
      ]
     },
     "execution_count": 38,
     "metadata": {},
     "output_type": "execute_result"
    }
   ],
   "source": [
    "eurocide_others.tail()"
   ]
  },
  {
   "cell_type": "code",
   "execution_count": 39,
   "metadata": {},
   "outputs": [
    {
     "data": {
      "text/html": [
       "<div>\n",
       "<style scoped>\n",
       "    .dataframe tbody tr th:only-of-type {\n",
       "        vertical-align: middle;\n",
       "    }\n",
       "\n",
       "    .dataframe tbody tr th {\n",
       "        vertical-align: top;\n",
       "    }\n",
       "\n",
       "    .dataframe thead th {\n",
       "        text-align: right;\n",
       "    }\n",
       "</style>\n",
       "<table border=\"1\" class=\"dataframe\">\n",
       "  <thead>\n",
       "    <tr style=\"text-align: right;\">\n",
       "      <th></th>\n",
       "      <th>year</th>\n",
       "      <th>suicides/100k pop</th>\n",
       "      <th>Mobile cellular subscriptions (per 100 people)</th>\n",
       "      <th>Electric power consumption (kWh per capita)</th>\n",
       "    </tr>\n",
       "  </thead>\n",
       "  <tbody>\n",
       "    <tr>\n",
       "      <td>year</td>\n",
       "      <td>1.000</td>\n",
       "      <td>-0.952</td>\n",
       "      <td>0.939</td>\n",
       "      <td>-0.229</td>\n",
       "    </tr>\n",
       "    <tr>\n",
       "      <td>suicides/100k pop</td>\n",
       "      <td>-0.952</td>\n",
       "      <td>1.000</td>\n",
       "      <td>-0.967</td>\n",
       "      <td>0.097</td>\n",
       "    </tr>\n",
       "    <tr>\n",
       "      <td>Mobile cellular subscriptions (per 100 people)</td>\n",
       "      <td>0.939</td>\n",
       "      <td>-0.967</td>\n",
       "      <td>1.000</td>\n",
       "      <td>-0.033</td>\n",
       "    </tr>\n",
       "    <tr>\n",
       "      <td>Electric power consumption (kWh per capita)</td>\n",
       "      <td>-0.229</td>\n",
       "      <td>0.097</td>\n",
       "      <td>-0.033</td>\n",
       "      <td>1.000</td>\n",
       "    </tr>\n",
       "  </tbody>\n",
       "</table>\n",
       "</div>"
      ],
      "text/plain": [
       "                                                 year  suicides/100k pop  \\\n",
       "year                                            1.000             -0.952   \n",
       "suicides/100k pop                              -0.952              1.000   \n",
       "Mobile cellular subscriptions (per 100 people)  0.939             -0.967   \n",
       "Electric power consumption (kWh per capita)    -0.229              0.097   \n",
       "\n",
       "                                                Mobile cellular subscriptions (per 100 people)  \\\n",
       "year                                                                                     0.939   \n",
       "suicides/100k pop                                                                       -0.967   \n",
       "Mobile cellular subscriptions (per 100 people)                                           1.000   \n",
       "Electric power consumption (kWh per capita)                                             -0.033   \n",
       "\n",
       "                                                Electric power consumption (kWh per capita)  \n",
       "year                                                                                 -0.229  \n",
       "suicides/100k pop                                                                     0.097  \n",
       "Mobile cellular subscriptions (per 100 people)                                       -0.033  \n",
       "Electric power consumption (kWh per capita)                                           1.000  "
      ]
     },
     "execution_count": 39,
     "metadata": {},
     "output_type": "execute_result"
    }
   ],
   "source": [
    "eurocide_others.iloc[:16].corr()\n",
    "#removed 2016 which seems to be outlier"
   ]
  },
  {
   "cell_type": "code",
   "execution_count": 40,
   "metadata": {},
   "outputs": [],
   "source": [
    "eurocide_others=eurocide_others.iloc[:16]"
   ]
  },
  {
   "cell_type": "code",
   "execution_count": 41,
   "metadata": {},
   "outputs": [
    {
     "data": {
      "image/png": "[encoded data removed]",
      "text/plain": [
       "<Figure size 432x288 with 1 Axes>"
      ]
     },
     "metadata": {
      "needs_background": "light"
     },
     "output_type": "display_data"
    },
    {
     "data": {
      "image/png": "[encoded data removed]",
      "text/plain": [
       "<Figure size 432x288 with 1 Axes>"
      ]
     },
     "metadata": {
      "needs_background": "light"
     },
     "output_type": "display_data"
    }
   ],
   "source": [
    "year=eurocide_others['year']\n",
    "mobile= eurocide_others['Mobile cellular subscriptions (per 100 people)']\n",
    "suicides= eurocide_others['suicides/100k pop']\n",
    "\n",
    "plt.subplot(2,1,1)\n",
    "plt.plot(year,mobile)\n",
    "plt.title('Year v. avg. mobile subscriptions per 100 in Europe')\n",
    "plt.xlabel('Year')\n",
    "plt.ylabel('Avg Mobile subscriptions per 100 people')\n",
    "plt.show()\n",
    "\n",
    "plt.subplot(2,1,2)\n",
    "plt.plot(year,suicides)\n",
    "plt.xlabel('Year')\n",
    "plt.ylabel('Avg suicides per 100k in europe')\n",
    "plt.title('Year v. avg suicides per 100k in Europe')\n",
    "plt.tight_layout()\n",
    "plt.show()"
   ]
  },
  {
   "cell_type": "code",
   "execution_count": 42,
   "metadata": {},
   "outputs": [],
   "source": [
    "#suicide rates seem to be negatively correlated with mobile subscriptions"
   ]
  },
  {
   "cell_type": "code",
   "execution_count": 51,
   "metadata": {},
   "outputs": [],
   "source": [
    "eurocide_others= eurocidetemp2[eurocidetemp2['Mobile cellular subscriptions (per 100 people)'].notna()]"
   ]
  },
  {
   "cell_type": "code",
   "execution_count": 58,
   "metadata": {},
   "outputs": [],
   "source": [
    "\n",
    "def yearplot(year):\n",
    "    data= eurocide_others[eurocide_others.year== year]\n",
    "    data.groupby('country', as_index=False)[['Mobile cellular subscriptions (per 100 people)','suicides/100k pop']].mean().plot.scatter('Mobile cellular subscriptions (per 100 people)','suicides/100k pop')\n",
    "    \n",
    "    plt.axis(ymin=0,ymax=45,xmin=0, xmax=180)"
   ]
  },
  {
   "cell_type": "code",
   "execution_count": 59,
   "metadata": {},
   "outputs": [],
   "source": [
    "from IPython.display import display\n",
    "from ipywidgets import interact, widgets"
   ]
  },
  {
   "cell_type": "code",
   "execution_count": null,
   "metadata": {},
   "outputs": [],
   "source": []
  },
  {
   "cell_type": "code",
   "execution_count": 60,
   "metadata": {},
   "outputs": [
    {
     "data": {
      "application/vnd.jupyter.widget-view+json": {
       "model_id": "9e74d6b14b444bf091823db441785c3b",
       "version_major": 2,
       "version_minor": 0
      },
      "text/plain": [
       "interactive(children=(IntSlider(value=2000, description='year', max=2015, min=2000), Output()), _dom_classes=(…"
      ]
     },
     "metadata": {},
     "output_type": "display_data"
    },
    {
     "data": {
      "text/plain": [
       "<function __main__.yearplot(year)>"
      ]
     },
     "metadata": {},
     "output_type": "display_data"
    }
   ],
   "source": [
    "v= interact(yearplot, year=widgets.IntSlider(min=2000, max=2015, step=1, value=2000))\n",
    "display(v)"
   ]
  },
  {
   "cell_type": "code",
   "execution_count": null,
   "metadata": {},
   "outputs": [],
   "source": []
  },
  {
   "cell_type": "code",
   "execution_count": null,
   "metadata": {},
   "outputs": [],
   "source": []
  }
 ],
 "metadata": {
  "kernelspec": {
   "display_name": "Python 3",
   "language": "python",
   "name": "python3"
  },
  "language_info": {
   "codemirror_mode": {
    "name": "ipython",
    "version": 3
   },
   "file_extension": ".py",
   "mimetype": "text/x-python",
   "name": "python",
   "nbconvert_exporter": "python",
   "pygments_lexer": "ipython3",
   "version": "3.7.3"
  }
 },
 "nbformat": 4,
 "nbformat_minor": 4
}
